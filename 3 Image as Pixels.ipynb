{
 "cells": [
  {
   "cell_type": "code",
   "execution_count": 1,
   "metadata": {},
   "outputs": [],
   "source": [
    "import numpy as np\n",
    "import matplotlib.pyplot as plt #\n",
    "import cv2  # computer vision library"
   ]
  },
  {
   "cell_type": "code",
   "execution_count": 5,
   "metadata": {},
   "outputs": [],
   "source": [
    "lena=cv2.imread('C:/Users/gandh/Desktop/computervision/images/lena.jpg')\n",
    "##Traditionally images are stored in BGR format.Hence we use BGR2GRAY \n",
    "gray=cv2.cvtColor(lena,cv2.COLOR_BGR2GRAY)\n",
    "cv2.imshow(\"Gray image\",gray)\n",
    "cv2.waitKey()\n",
    "cv2.destroyAllWindows()"
   ]
  },
  {
   "cell_type": "code",
   "execution_count": 12,
   "metadata": {},
   "outputs": [
    {
     "name": "stdout",
     "output_type": "stream",
     "text": [
      "142\n",
      "Maximum pixel value:  249\n",
      "Minimum pixel value 22\n"
     ]
    }
   ],
   "source": [
    "# Printing specific pixel value\n",
    "\n",
    "x = 400\n",
    "y = 300\n",
    "\n",
    "print(gray[y,x])\n",
    "\n",
    "#To find the maximum and minimum pixel value of an image \n",
    "max_val = np.amax(gray) #refer the last cell for more information \n",
    "min_val = np.amin(gray)\n",
    "\n",
    "print('Maximum pixel value: ', max_val)\n",
    "print('Minimum pixel value', min_val)"
   ]
  },
  {
   "cell_type": "code",
   "execution_count": 14,
   "metadata": {},
   "outputs": [
    {
     "data": {
      "text/plain": [
       "<matplotlib.image.AxesImage at 0x14f78b4f160>"
      ]
     },
     "execution_count": 14,
     "metadata": {},
     "output_type": "execute_result"
    },
    {
     "data": {
      "image/png": "[encoded data removed]",
      "text/plain": [
       "<Figure size 288x288 with 1 Axes>"
      ]
     },
     "metadata": {
      "needs_background": "light"
     },
     "output_type": "display_data"
    }
   ],
   "source": [
    "# Create a 5x5 image using just grayscale, numerical values\n",
    "tiny_image = np.array([[50,0,250],[120,147,220],[5,190,20]])\n",
    "\n",
    "# To show the pixel grid, use matshow\n",
    "plt.matshow(tiny_image, cmap='gray')"
   ]
  },
  {
   "cell_type": "code",
   "execution_count": 15,
   "metadata": {},
   "outputs": [
    {
     "name": "stdout",
     "output_type": "stream",
     "text": [
      "[[162 162 162 ... 169 155 129]\n",
      " [161 162 162 ... 171 156 129]\n",
      " [162 162 162 ... 170 155 126]\n",
      " ...\n",
      " [ 44  40  53 ... 102 100 100]\n",
      " [ 44  41  57 ... 104 106 106]\n",
      " [ 45  42  58 ... 102 108 108]]\n"
     ]
    }
   ],
   "source": [
    "#Printing the image(Gray)\n",
    "print(gray)"
   ]
  },
  {
   "cell_type": "code",
   "execution_count": 1,
   "metadata": {},
   "outputs": [
    {
     "data": {
      "text/html": [
       "\n",
       "        <iframe\n",
       "            width=\"800\"\n",
       "            height=\"450\"\n",
       "            src=\"https://docs.scipy.org/doc/numpy/reference/generated/numpy.amin.html\"\n",
       "            frameborder=\"0\"\n",
       "            allowfullscreen\n",
       "        ></iframe>\n",
       "        "
      ],
      "text/plain": [
       "<IPython.lib.display.IFrame at 0x20fd8daf7f0>"
      ]
     },
     "execution_count": 1,
     "metadata": {},
     "output_type": "execute_result"
    }
   ],
   "source": [
    "from IPython.display import IFrame\n",
    "IFrame('https://docs.scipy.org/doc/numpy/reference/generated/numpy.amax.html', width=800, height=450)\n",
    "##                             also\n",
    "## IFrame('https://docs.scipy.org/doc/numpy/reference/generated/numpy.amax.html', width=800, height=450)"
   ]
  },
  {
   "cell_type": "markdown",
   "metadata": {},
   "source": []
  }
 ],
 "metadata": {
  "kernelspec": {
   "display_name": "Python 3",
   "language": "python",
   "name": "python3"
  },
  "language_info": {
   "codemirror_mode": {
    "name": "ipython",
    "version": 3
   },
   "file_extension": ".py",
   "mimetype": "text/x-python",
   "name": "python",
   "nbconvert_exporter": "python",
   "pygments_lexer": "ipython3",
   "version": "3.6.8"
  }
 },
 "nbformat": 4,
 "nbformat_minor": 2
}
