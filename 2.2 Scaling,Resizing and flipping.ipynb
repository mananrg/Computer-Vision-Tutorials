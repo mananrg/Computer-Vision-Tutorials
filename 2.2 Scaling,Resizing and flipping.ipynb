{
 "cells": [
  {
   "cell_type": "code",
   "execution_count": 30,
   "metadata": {},
   "outputs": [],
   "source": [
    "import cv2\n",
    "import numpy as np\n",
    "image = cv2.imread('./images/Hillary.jpg')"
   ]
  },
  {
   "cell_type": "markdown",
   "metadata": {},
   "source": [
    "### Resizing the image\n",
    "cv2.resize(image, dsize(output image size), x scale, y scale, interpolation)"
   ]
  },
  {
   "cell_type": "code",
   "execution_count": 27,
   "metadata": {},
   "outputs": [
    {
     "name": "stdout",
     "output_type": "stream",
     "text": [
      "resized to 128x256 image shape: (256, 128, 3)\n",
      "original: (273, 184, 3)\n"
     ]
    }
   ],
   "source": [
    "#Resizing into 128x256 image\n",
    "width, height = 128, 256\n",
    "resized_img = cv2.resize(image, (width, height))\n",
    "cv2.imshow(\"original\",image)\n",
    "cv2.imshow(\"resized\",resized_img)\n",
    "cv2.waitKey()\n",
    "cv2.destroyAllWindows()"
   ]
  },
  {
   "cell_type": "markdown",
   "metadata": {},
   "source": [
    "### Resize by setting multipliers of the image's original width and height:"
   ]
  },
  {
   "cell_type": "code",
   "execution_count": 41,
   "metadata": {},
   "outputs": [],
   "source": [
    "w_mult, h_mult = 0.25, 0.5\n",
    "#(0,0) means it will take a suitable nearest dimension\n",
    "#you can also have a custom size eg(900,450)\n",
    "resized_img = cv2.resize(image,(0,0), resized_img, w_mult, h_mult)\n",
    "\n",
    "cv2.imshow(\"resized\",resized_img)\n",
    "cv2.waitKey()\n",
    "cv2.destroyAllWindows()\n"
   ]
  },
  {
   "cell_type": "markdown",
   "metadata": {},
   "source": [
    "### Interpolations\n",
    "\n",
    "Lets play with interpolation mode in cv2.resize—it defines how values between pixels are computed."
   ]
  },
  {
   "cell_type": "code",
   "execution_count": 34,
   "metadata": {},
   "outputs": [],
   "source": [
    "# Let's resize using nearest-neighbor interpolation instead of the default one\n",
    "w_mult, h_mult = 2, 4\n",
    "resized_img = cv2.resize(image, (0, 0), resized_img, w_mult, h_mult, cv2.INTER_NEAREST)\n",
    "cv2.imshow('half sized image shape:', resized_img)\n",
    "cv2.waitKey()\n",
    "\n",
    "# Let's double the size of our image\n",
    "img_scaled = cv2.resize(image, None, fx=2, fy=2, interpolation = cv2.INTER_CUBIC)\n",
    "cv2.imshow('Scaling - Cubic Interpolation', img_scaled)\n",
    "cv2.waitKey()\n",
    "\n",
    "# Let's make our image 3/4 of it's original size\n",
    "image_scaled = cv2.resize(image, None, fx=0.75, fy=0.75)\n",
    "cv2.imshow('Scaling - Linear Interpolation', image_scaled) \n",
    "cv2.waitKey()\n",
    "\n",
    "# Let's skew the re-sizing by setting exact dimensions\n",
    "img_scaled = cv2.resize(image, (900, 400), interpolation = cv2.INTER_AREA)\n",
    "cv2.imshow('Scaling - Skewed Size', img_scaled) \n",
    "cv2.waitKey()\n",
    "\n",
    "cv2.destroyAllWindows()\n",
    "\n",
    "#Interpolations can be quite tricky to understand for the first time, However we dont use interpolations alot\n",
    "#It doesnot influence the result's size,only the quality and smoothness of the output.\n",
    "\n"
   ]
  },
  {
   "cell_type": "markdown",
   "metadata": {},
   "source": [
    "### Flipping"
   ]
  },
  {
   "cell_type": "code",
   "execution_count": 40,
   "metadata": {},
   "outputs": [],
   "source": [
    "# Reflect the image along its horizontal x-axis. To do this, we should pass 0 as the last argument of the cv2.flip function:\n",
    "img_flip_along_x = cv2.flip(image, 0)\n",
    "cv2.imshow('Flipped along x-axis',img_flip_along_x) \n",
    "cv2.waitKey()\n",
    "\n",
    "# Reflect the image along its vertical y-axis. To do this, we should pass 0 as the last argument of the cv2.flip function:\n",
    "img_flip_along_y = cv2.flip(image, 1)\n",
    "cv2.imshow('Flipped along y-axis',img_flip_along_y) \n",
    "cv2.waitKey()\n",
    "\n",
    "# Reflect the image along both x-axis and y-axis. To do this, we should pass 0 as the last argument of the cv2.flip function:\n",
    "img_flipped_xy = cv2.flip(image, -1)\n",
    "cv2.imshow('Flipped both axis',img_flipped_xy) \n",
    "cv2.waitKey()\n",
    "\n",
    "cv2.destroyAllWindows()"
   ]
  },
  {
   "cell_type": "code",
   "execution_count": 42,
   "metadata": {},
   "outputs": [
    {
     "data": {
      "text/html": [
       "\n",
       "        <iframe\n",
       "            width=\"800\"\n",
       "            height=\"450\"\n",
       "            src=\"https://docs.opencv.org/3.0-beta/doc/py_tutorials/py_imgproc/py_geometric_transformations/py_geometric_transformations.html#geometric-transformations\"\n",
       "            frameborder=\"0\"\n",
       "            allowfullscreen\n",
       "        ></iframe>\n",
       "        "
      ],
      "text/plain": [
       "<IPython.lib.display.IFrame at 0x218f50e30f0>"
      ]
     },
     "execution_count": 42,
     "metadata": {},
     "output_type": "execute_result"
    }
   ],
   "source": [
    "# For more details on Interpolation and scaling please refer\n",
    "\n",
    "from IPython.display import IFrame\n",
    "IFrame('https://docs.opencv.org/3.0-beta/doc/py_tutorials/py_imgproc/py_geometric_transformations/py_geometric_transformations.html#geometric-transformations', width=800, height=450)"
   ]
  }
 ],
 "metadata": {
  "kernelspec": {
   "display_name": "Python [conda env:.conda-deep-learning] *",
   "language": "python",
   "name": "conda-env-.conda-deep-learning-py"
  },
  "language_info": {
   "codemirror_mode": {
    "name": "ipython",
    "version": 3
   },
   "file_extension": ".py",
   "mimetype": "text/x-python",
   "name": "python",
   "nbconvert_exporter": "python",
   "pygments_lexer": "ipython3",
   "version": "3.6.8"
  }
 },
 "nbformat": 4,
 "nbformat_minor": 2
}
