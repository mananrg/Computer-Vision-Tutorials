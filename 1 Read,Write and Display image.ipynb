{
 "cells": [
  {
   "cell_type": "markdown",
   "metadata": {},
   "source": [
    "# Reading,Writing and Displaying an Image"
   ]
  },
  {
   "cell_type": "code",
   "execution_count": 1,
   "metadata": {},
   "outputs": [],
   "source": [
    "#importing dependencies\n",
    "import cv2          #computer vision library\n",
    "import numpy        #scientific computing library"
   ]
  },
  {
   "cell_type": "markdown",
   "metadata": {},
   "source": [
    "### Read an image.\n",
    "cv2.imread('complete path to image',flag)\n",
    "First argument is complete path to the image along with the extension.\n",
    "Second argument is an optional flag which you will learn in the next session.\n",
    "\n"
   ]
  },
  {
   "cell_type": "code",
   "execution_count": 2,
   "metadata": {},
   "outputs": [],
   "source": [
    "##arguments to be passed in cv2.imread\n",
    "image=cv2.imread('C:/Users/gandh/Desktop/computervision/images/Trump.jpg') "
   ]
  },
  {
   "cell_type": "markdown",
   "metadata": {},
   "source": [
    "### Display an image\n",
    "Use the function cv2.imshow() to display an image in a window. The window automatically fits to the image size.\n",
    "First argument is a window name which is a string. second argument is our image. You can create as many windows as you wish, but with different window names."
   ]
  },
  {
   "cell_type": "code",
   "execution_count": 3,
   "metadata": {},
   "outputs": [],
   "source": [
    "cv2.imshow(\"Trump\",image)"
   ]
  },
  {
   "cell_type": "markdown",
   "metadata": {},
   "source": [
    "cv2.waitKey() is a keyboard binding function. Its argument is the time in milliseconds. The function waits for specified milliseconds for any keyboard event. If you press any key in that time, the program continues. If 0 is passed, it waits indefinitely for a key stroke. It can also be set to detect specific key strokes like, if key a is pressed etc which we will discuss below."
   ]
  },
  {
   "cell_type": "code",
   "execution_count": 4,
   "metadata": {},
   "outputs": [
    {
     "data": {
      "text/plain": [
       "13"
      ]
     },
     "execution_count": 4,
     "metadata": {},
     "output_type": "execute_result"
    }
   ],
   "source": [
    "cv2.waitKey()"
   ]
  },
  {
   "cell_type": "markdown",
   "metadata": {},
   "source": [
    "cv2.destroyAllWindows() simply destroys all the windows we created. If you want to destroy any specific window, use the function cv.destroyWindow() where you pass the exact window name as the argument."
   ]
  },
  {
   "cell_type": "code",
   "execution_count": 5,
   "metadata": {},
   "outputs": [],
   "source": [
    "cv2.destroyAllWindows()"
   ]
  },
  {
   "cell_type": "markdown",
   "metadata": {},
   "source": [
    "### Writing an image(saving)"
   ]
  },
  {
   "cell_type": "markdown",
   "metadata": {},
   "source": [
    "Use the function cv2.write() saves an image to a specified file.\n",
    " First Argument is Path to the destination on file system, where image is  to be saved.\n",
    " Second Argument is ndarray containing image\n",
    " Returns True is returned if the image is written to file system, else False."
   ]
  },
  {
   "cell_type": "code",
   "execution_count": 14,
   "metadata": {},
   "outputs": [
    {
     "data": {
      "text/plain": [
       "True"
      ]
     },
     "execution_count": 14,
     "metadata": {},
     "output_type": "execute_result"
    }
   ],
   "source": [
    "cv2.imwrite(\"./images/TRUMP_COPY.png\",image)"
   ]
  },
  {
   "cell_type": "code",
   "execution_count": 7,
   "metadata": {},
   "outputs": [],
   "source": [
    "cv2.waitKey()\n",
    "cv2.destroyAllWindows()"
   ]
  },
  {
   "cell_type": "markdown",
   "metadata": {},
   "source": [
    "### Lets see how images are stored"
   ]
  },
  {
   "cell_type": "code",
   "execution_count": 8,
   "metadata": {},
   "outputs": [
    {
     "name": "stdout",
     "output_type": "stream",
     "text": [
      "(465, 342, 3)\n",
      "<class 'numpy.ndarray'>\n",
      "img.dtype:  uint8\n",
      "img.size:  477090\n"
     ]
    }
   ],
   "source": [
    "print(image.shape)\n",
    "print(type(image))\n",
    "print('img.dtype: ', image.dtype)\n",
    "print('img.size: ', image.size)"
   ]
  },
  {
   "cell_type": "code",
   "execution_count": 13,
   "metadata": {},
   "outputs": [
    {
     "name": "stdout",
     "output_type": "stream",
     "text": [
      "Height of Image: 465 pixels\n",
      "Width of Image:  342 pixels\n",
      "Layers:  3 layers\n",
      "Image size 477090\n",
      "Maximum RGB value in this image  255\n",
      "Minimum RGB value in this image  0\n"
     ]
    }
   ],
   "source": [
    "print('Height of Image:', int(image.shape[0]), 'pixels')\n",
    "print('Width of Image: ', int(image.shape[1]), 'pixels')\n",
    "print('Layers: ', int(image.shape[2]), 'layers')\n",
    "print('Image size',image.size)       \n",
    "#imagesize=width x height x layers\n",
    "print('Maximum RGB value in this image ',image.max())\n",
    "print('Minimum RGB value in this image ',image.min())\n",
    "\n"
   ]
  },
  {
   "cell_type": "code",
   "execution_count": 10,
   "metadata": {},
   "outputs": [
    {
     "data": {
      "text/plain": [
       "'\\nIn python the numbering starts from zero \\nHence int(image.shape[0]) returns the first argument height,\\nwhile int(image.shape[1]) returns the second argument width\\nand int(image.shape[2]) returns the number of layers for RGB image we know that there are three layers \\n\\nwhile for grayscale image it has only 1 layer \\n\\n'"
      ]
     },
     "execution_count": 10,
     "metadata": {},
     "output_type": "execute_result"
    }
   ],
   "source": [
    "'''\n",
    "In python the numbering starts from zero \n",
    "Hence int(image.shape[0]) returns the first argument height,\n",
    "while int(image.shape[1]) returns the second argument width\n",
    "and int(image.shape[2]) returns the number of layers for RGB image we know that there are three layers \n",
    "\n",
    "while for grayscale image it has only 1 layer \n",
    "\n",
    "'''"
   ]
  },
  {
   "cell_type": "markdown",
   "metadata": {},
   "source": [
    "### To know more on how images are stored watch the video below"
   ]
  },
  {
   "cell_type": "code",
   "execution_count": 11,
   "metadata": {},
   "outputs": [
    {
     "data": {
      "image/jpeg": "[encoded data removed]",
      "text/html": [
       "\n",
       "        <iframe\n",
       "            width=\"800\"\n",
       "            height=\"300\"\n",
       "            src=\"https://www.youtube.com/embed/EXZWHumclx0\"\n",
       "            frameborder=\"0\"\n",
       "            allowfullscreen\n",
       "        ></iframe>\n",
       "        "
      ],
      "text/plain": [
       "<IPython.lib.display.YouTubeVideo at 0x1ff54582ba8>"
      ]
     },
     "execution_count": 11,
     "metadata": {},
     "output_type": "execute_result"
    }
   ],
   "source": [
    "## only for representation purpose can ignore\n",
    "from IPython.display import YouTubeVideo\n",
    "YouTubeVideo('EXZWHumclx0', width=800, height=300)"
   ]
  },
  {
   "cell_type": "code",
   "execution_count": null,
   "metadata": {},
   "outputs": [],
   "source": []
  }
 ],
 "metadata": {
  "kernelspec": {
   "display_name": "Python 3",
   "language": "python",
   "name": "python3"
  },
  "language_info": {
   "codemirror_mode": {
    "name": "ipython",
    "version": 3
   },
   "file_extension": ".py",
   "mimetype": "text/x-python",
   "name": "python",
   "nbconvert_exporter": "python",
   "pygments_lexer": "ipython3",
   "version": "3.6.8"
  }
 },
 "nbformat": 4,
 "nbformat_minor": 2
}
