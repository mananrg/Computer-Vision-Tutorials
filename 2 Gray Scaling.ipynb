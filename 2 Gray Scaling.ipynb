{
 "cells": [
  {
   "cell_type": "markdown",
   "metadata": {},
   "source": [
    "# Grayscaling an image"
   ]
  },
  {
   "cell_type": "markdown",
   "metadata": {},
   "source": [
    "There are more than 150 color-space conversion methods available in OpenCV. But we will look into only two which are most widely used ones, BGR <-> Gray and BGR <-> HSV.\n",
    "Grayscaling is the process of converting an RGB image into Grayscale i.e Black and White\n"
   ]
  },
  {
   "cell_type": "markdown",
   "metadata": {},
   "source": [
    "### Converting an image into grayscale"
   ]
  },
  {
   "cell_type": "code",
   "execution_count": 1,
   "metadata": {},
   "outputs": [],
   "source": [
    "import cv2\n",
    "lena=cv2.imread('C:/Users/gandh/Desktop/computervision/images/lena.jpg')\n",
    "##Traditionally images are stored in BGR format.Hence we use BGR2GRAY \n",
    "gray=cv2.cvtColor(lena,cv2.COLOR_BGR2GRAY)\n",
    "cv2.imshow(\"Gray image\",gray)\n",
    "cv2.waitKey()\n",
    "cv2.destroyAllWindows()"
   ]
  },
  {
   "cell_type": "code",
   "execution_count": 8,
   "metadata": {},
   "outputs": [
    {
     "name": "stdout",
     "output_type": "stream",
     "text": [
      "(512, 512)\n"
     ]
    }
   ],
   "source": [
    "#Another method of converting an RGB image to grayscale\n",
    "import cv2\n",
    "import numpy\n",
    "lena=cv2.imread('C:/Users/gandh/Desktop/computervision/images/lena.jpg',0)\n",
    "cv2.imshow(\"Gray image\",lena)\n",
    "cv2.waitKey()\n",
    "cv2.destroyAllWindows()\n",
    "print(lena.shape)"
   ]
  },
  {
   "cell_type": "markdown",
   "metadata": {},
   "source": []
  },
  {
   "cell_type": "code",
   "execution_count": 3,
   "metadata": {},
   "outputs": [
    {
     "data": {
      "text/plain": [
       "'\\nTry converting into an HSV image \\ncv2.COLOR_BGR2HSV\\n\\n\\nFor more details on color spaces copy the below link in your browser\\n\\nhttps://www.learnopencv.com/color-spaces-in-opencv-cpp-python/\\n\\n'"
      ]
     },
     "execution_count": 3,
     "metadata": {},
     "output_type": "execute_result"
    }
   ],
   "source": [
    "'''\n",
    "Try converting into an HSV image \n",
    "cv2.COLOR_BGR2HSV\n",
    "\n",
    "'''"
   ]
  },
  {
   "cell_type": "markdown",
   "metadata": {},
   "source": [
    "### Converting an image into HSV\n"
   ]
  },
  {
   "cell_type": "code",
   "execution_count": 4,
   "metadata": {},
   "outputs": [],
   "source": [
    "#Type your code here"
   ]
  },
  {
   "cell_type": "code",
   "execution_count": 2,
   "metadata": {},
   "outputs": [
    {
     "data": {
      "text/html": [
       "\n",
       "        <iframe\n",
       "            width=\"800\"\n",
       "            height=\"450\"\n",
       "            src=\"https://www.learnopencv.com/color-spaces-in-opencv-cpp-python/\"\n",
       "            frameborder=\"0\"\n",
       "            allowfullscreen\n",
       "        ></iframe>\n",
       "        "
      ],
      "text/plain": [
       "<IPython.lib.display.IFrame at 0x253271df630>"
      ]
     },
     "execution_count": 2,
     "metadata": {},
     "output_type": "execute_result"
    }
   ],
   "source": [
    "# For more details on color spaces refer below\n",
    "\n",
    "from IPython.display import IFrame\n",
    "IFrame('https://www.learnopencv.com/color-spaces-in-opencv-cpp-python/', width=800, height=450)"
   ]
  },
  {
   "cell_type": "code",
   "execution_count": 5,
   "metadata": {},
   "outputs": [
    {
     "data": {
      "text/plain": [
       "\"''\\n\\nTry them\\ncv2.imread('complete path to image',flag) First argument is complete path to the image along with the extension. Second argument is an optional flag is given below.\\n\\n\\ncv.IMREAD_COLOR : Loads a color image. Any transparency of image will be neglected. It is the default flag.\\ncv.IMREAD_GRAYSCALE : Loads image in grayscale mode\\ncv.IMREAD_UNCHANGED : Loads image as such including alpha channel\\n\\n\""
      ]
     },
     "execution_count": 5,
     "metadata": {},
     "output_type": "execute_result"
    }
   ],
   "source": [
    "'''''\n",
    "\n",
    "Try them\n",
    "cv2.imread('complete path to image',flag) First argument is complete path to the image along with the extension. Second argument is an optional flag is given below.\n",
    "\n",
    "\n",
    "cv.IMREAD_COLOR : Loads a color image. Any transparency of image will be neglected. It is the default flag.\n",
    "cv.IMREAD_GRAYSCALE : Loads image in grayscale mode\n",
    "cv.IMREAD_UNCHANGED : Loads image as such including alpha channel\n",
    "\n",
    "'''''"
   ]
  },
  {
   "cell_type": "code",
   "execution_count": 6,
   "metadata": {},
   "outputs": [],
   "source": [
    "#Example code\n",
    "import cv2\n",
    "lena=cv2.imread('C:/Users/gandh/Desktop/computervision/images/lena.jpg',cv2.IMREAD_GRAYSCALE)\n",
    "##gray=cv2.cvtColor(lena,cv2.COLOR_BGR2GRAY)\n",
    "cv2.imshow(\"Gray image\",lena)\n",
    "cv2.waitKey()\n",
    "cv2.destroyAllWindows()"
   ]
  }
 ],
 "metadata": {
  "kernelspec": {
   "display_name": "Python 3",
   "language": "python",
   "name": "python3"
  },
  "language_info": {
   "codemirror_mode": {
    "name": "ipython",
    "version": 3
   },
   "file_extension": ".py",
   "mimetype": "text/x-python",
   "name": "python",
   "nbconvert_exporter": "python",
   "pygments_lexer": "ipython3",
   "version": "3.6.8"
  }
 },
 "nbformat": 4,
 "nbformat_minor": 2
}
